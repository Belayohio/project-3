{
 "cells": [
  {
   "cell_type": "code",
   "execution_count": 2,
   "id": "fef142b9-b88c-4994-b2cb-2402830ce296",
   "metadata": {},
   "outputs": [
    {
     "name": "stdout",
     "output_type": "stream",
     "text": [
      "                        Category              Equipment\n",
      "0                          Tanks              2 T-54-3M\n",
      "1                          Tanks                2 T-54B\n",
      "2                          Tanks                3 T-55A\n",
      "3                          Tanks      1 T-55A Obr. 1981\n",
      "4                          Tanks      5 Unknown T-54/55\n",
      "..                           ...                    ...\n",
      "294  Trucks, Vehicles, and Jeeps   1 UAZ-515195 'Esaul'\n",
      "295  Trucks, Vehicles, and Jeeps           21 UAZ-39094\n",
      "296  Trucks, Vehicles, and Jeeps  6 Unknown fuel tanker\n",
      "297  Trucks, Vehicles, and Jeeps    270 (Unknown) truck\n",
      "298  Trucks, Vehicles, and Jeeps   57 (Unknown) vehicle\n",
      "\n",
      "[299 rows x 2 columns]\n"
     ]
    }
   ],
   "source": [
    "import re\n",
    "import requests\n",
    "import pandas as pd\n",
    "from bs4 import BeautifulSoup\n",
    "\n",
    "# URL of the webpage\n",
    "url = 'https://www.oryxspioenkop.com/2022/02/attack-on-europe-documenting-equipment.html'\n",
    "\n",
    "# Fetch the page content\n",
    "response = requests.get(url)\n",
    "response.raise_for_status()\n",
    "\n",
    "# Parse the HTML content\n",
    "soup = BeautifulSoup(response.text, 'html.parser')\n",
    "\n",
    "# List to store equipment data with categories\n",
    "equipment_data = []\n",
    "\n",
    "# Find all <span> elements with a class of 'mw-headline' and corresponding <ul> tags\n",
    "for span in soup.find_all('span', class_='mw-headline'):\n",
    "    section_name = span.get_text(strip=True)\n",
    "    \n",
    "    if span.find_parent('h3'):        \n",
    "        ul_tag = span.find_parent('h3').find_next('ul')  # Find the <ul> items under <h3>\n",
    "        \n",
    "        if ul_tag: # Extract the <li> items\n",
    "            for li in ul_tag.find_all('li'):\n",
    "                raw_text = li.get_text(strip=True)\n",
    "                cleaned_text = raw_text.split(':')[0]  # Only keep the text before the semicolon\n",
    "                equipment_data.append([section_name, cleaned_text]) # Add the equipment along with its category\n",
    "\n",
    "# Convert the equipment data into a DataFrame\n",
    "equipment_df = pd.DataFrame(equipment_data, columns=['Category', 'Equipment'])\n",
    "\n",
    "# Display the DataFrame\n",
    "print(equipment_df)"
   ]
  },
  {
   "cell_type": "code",
   "execution_count": 7,
   "id": "fbf23513-7f21-4ad6-8222-19e15718120f",
   "metadata": {},
   "outputs": [],
   "source": [
    "equipment_df = equipment_df.copy()"
   ]
  },
  {
   "cell_type": "code",
   "execution_count": 8,
   "id": "d282bb72-8962-4ade-9415-b6158be3c8a1",
   "metadata": {},
   "outputs": [],
   "source": [
    "# Drop rows containing \"Unknown\" (case-insensitive)\n",
    "equipment_df = equipment_df[~equipment_df['Equipment'].str.contains('Unknown', case=False, na=False)]"
   ]
  },
  {
   "cell_type": "code",
   "execution_count": 9,
   "id": "a809cca7-c915-4d90-b44d-0c45372065dd",
   "metadata": {},
   "outputs": [
    {
     "data": {
      "text/html": [
       "<div>\n",
       "<style scoped>\n",
       "    .dataframe tbody tr th:only-of-type {\n",
       "        vertical-align: middle;\n",
       "    }\n",
       "\n",
       "    .dataframe tbody tr th {\n",
       "        vertical-align: top;\n",
       "    }\n",
       "\n",
       "    .dataframe thead th {\n",
       "        text-align: right;\n",
       "    }\n",
       "</style>\n",
       "<table border=\"1\" class=\"dataframe\">\n",
       "  <thead>\n",
       "    <tr style=\"text-align: right;\">\n",
       "      <th></th>\n",
       "      <th>Category</th>\n",
       "      <th>Equipment</th>\n",
       "    </tr>\n",
       "  </thead>\n",
       "  <tbody>\n",
       "    <tr>\n",
       "      <th>0</th>\n",
       "      <td>Tanks</td>\n",
       "      <td>2 T-54-3M</td>\n",
       "    </tr>\n",
       "    <tr>\n",
       "      <th>1</th>\n",
       "      <td>Tanks</td>\n",
       "      <td>2 T-54B</td>\n",
       "    </tr>\n",
       "    <tr>\n",
       "      <th>2</th>\n",
       "      <td>Tanks</td>\n",
       "      <td>3 T-55A</td>\n",
       "    </tr>\n",
       "    <tr>\n",
       "      <th>3</th>\n",
       "      <td>Tanks</td>\n",
       "      <td>1</td>\n",
       "    </tr>\n",
       "    <tr>\n",
       "      <th>5</th>\n",
       "      <td>Tanks</td>\n",
       "      <td>5</td>\n",
       "    </tr>\n",
       "    <tr>\n",
       "      <th>...</th>\n",
       "      <td>...</td>\n",
       "      <td>...</td>\n",
       "    </tr>\n",
       "    <tr>\n",
       "      <th>277</th>\n",
       "      <td>Trucks, Vehicles, and Jeeps</td>\n",
       "      <td>17</td>\n",
       "    </tr>\n",
       "    <tr>\n",
       "      <th>279</th>\n",
       "      <td>Trucks, Vehicles, and Jeeps</td>\n",
       "      <td>1 KamAZ-65117</td>\n",
       "    </tr>\n",
       "    <tr>\n",
       "      <th>280</th>\n",
       "      <td>Trucks, Vehicles, and Jeeps</td>\n",
       "      <td>7 KamAZ</td>\n",
       "    </tr>\n",
       "    <tr>\n",
       "      <th>283</th>\n",
       "      <td>Trucks, Vehicles, and Jeeps</td>\n",
       "      <td>1 UAZ-469RKh(B)</td>\n",
       "    </tr>\n",
       "    <tr>\n",
       "      <th>294</th>\n",
       "      <td>Trucks, Vehicles, and Jeeps</td>\n",
       "      <td>1 UAZ-515195</td>\n",
       "    </tr>\n",
       "  </tbody>\n",
       "</table>\n",
       "<p>139 rows × 2 columns</p>\n",
       "</div>"
      ],
      "text/plain": [
       "                        Category        Equipment\n",
       "0                          Tanks        2 T-54-3M\n",
       "1                          Tanks          2 T-54B\n",
       "2                          Tanks          3 T-55A\n",
       "3                          Tanks                1\n",
       "5                          Tanks                5\n",
       "..                           ...              ...\n",
       "277  Trucks, Vehicles, and Jeeps               17\n",
       "279  Trucks, Vehicles, and Jeeps    1 KamAZ-65117\n",
       "280  Trucks, Vehicles, and Jeeps          7 KamAZ\n",
       "283  Trucks, Vehicles, and Jeeps  1 UAZ-469RKh(B)\n",
       "294  Trucks, Vehicles, and Jeeps     1 UAZ-515195\n",
       "\n",
       "[139 rows x 2 columns]"
      ]
     },
     "execution_count": 9,
     "metadata": {},
     "output_type": "execute_result"
    }
   ],
   "source": [
    "# Keep only the text after the first space in each row (drop the count number)\n",
    "equipment_df['Equipment'] = equipment_df['Equipment'].str.split(' ', n=1).str[1]\n",
    "# Keep only the text before the first space in each row \n",
    "equipment_df['Equipment'] = equipment_df['Equipment'].str.split(' ', n=1).str[0]\n",
    "# Drops the asterics \" ' \"\n",
    "equipment_df.loc[:,'Equipment'] = equipment_df['Equipment'].str.strip(\"'\")\n",
    "\n",
    "# Remove duplicate values in the 'Equipment' column\n",
    "clean_equipment_df = equipment_df.drop_duplicates(subset=['Equipment'], keep='first')\n",
    "\n",
    "clean_equipment_df"
   ]
  },
  {
   "cell_type": "code",
   "execution_count": 5,
   "id": "4afd011e-5a11-4f03-9690-4eb9beae7e27",
   "metadata": {},
   "outputs": [],
   "source": [
    "#save the DataFrame to a CSV file\n",
    "clean_equipment_df.to_csv('equipment_by_category.csv', index=False)"
   ]
  },
  {
   "cell_type": "code",
   "execution_count": null,
   "id": "cc528b63-1a3a-4a42-af56-47c9df1f6c64",
   "metadata": {},
   "outputs": [],
   "source": []
  },
  {
   "cell_type": "code",
   "execution_count": null,
   "id": "c3531eca-1414-42fa-82d6-3eb72e6d2d87",
   "metadata": {},
   "outputs": [],
   "source": []
  }
 ],
 "metadata": {
  "kernelspec": {
   "display_name": "Python 3 (ipykernel)",
   "language": "python",
   "name": "python3"
  },
  "language_info": {
   "codemirror_mode": {
    "name": "ipython",
    "version": 3
   },
   "file_extension": ".py",
   "mimetype": "text/x-python",
   "name": "python",
   "nbconvert_exporter": "python",
   "pygments_lexer": "ipython3",
   "version": "3.10.14"
  }
 },
 "nbformat": 4,
 "nbformat_minor": 5
}
